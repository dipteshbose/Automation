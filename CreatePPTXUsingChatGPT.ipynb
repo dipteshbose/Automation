{
  "nbformat": 4,
  "nbformat_minor": 0,
  "metadata": {
    "colab": {
      "provenance": [],
      "toc_visible": true,
      "authorship_tag": "ABX9TyOF9TcwgvG3CsmQmGGUm1ka",
      "include_colab_link": true
    },
    "kernelspec": {
      "name": "python3",
      "display_name": "Python 3"
    },
    "language_info": {
      "name": "python"
    }
  },
  "cells": [
    {
      "cell_type": "markdown",
      "metadata": {
        "id": "view-in-github",
        "colab_type": "text"
      },
      "source": [
        "<a href=\"https://colab.research.google.com/github/dipteshbose/Automation/blob/git_collab/CreatePPTXUsingChatGPT.ipynb\" target=\"_parent\"><img src=\"https://colab.research.google.com/assets/colab-badge.svg\" alt=\"Open In Colab\"/></a>"
      ]
    },
    {
      "cell_type": "code",
      "execution_count": 1,
      "metadata": {
        "colab": {
          "base_uri": "https://localhost:8080/"
        },
        "id": "IskAY5jzrjxg",
        "outputId": "86bc2ded-abac-406c-c9f3-6ea35e16351c"
      },
      "outputs": [
        {
          "output_type": "stream",
          "name": "stdout",
          "text": [
            "1 1 2 3 5 8 13 21 34 55 89 144 233 377 610 987 "
          ]
        }
      ],
      "source": [
        "def fibonacci(n): \n",
        "    a, b = 0, 1\n",
        "    while b < n: \n",
        "        print(b, end=' ') \n",
        "        a, b = b, a + b\n",
        "\n",
        "fibonacci(1000)\n"
      ]
    }
  ]
}